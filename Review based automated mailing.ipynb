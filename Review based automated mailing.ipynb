{
 "cells": [
  {
   "cell_type": "code",
   "execution_count": 1,
   "id": "780bc550-f660-41cb-b10f-8aaad258134e",
   "metadata": {},
   "outputs": [
    {
     "name": "stdout",
     "output_type": "stream",
     "text": [
      "Requirement already satisfied: torch in c:\\users\\91981\\appdata\\local\\programs\\python\\python311\\lib\\site-packages (2.0.1)\n",
      "Requirement already satisfied: torchvision in c:\\users\\91981\\appdata\\local\\programs\\python\\python311\\lib\\site-packages (0.15.2)\n",
      "Requirement already satisfied: transformers in c:\\users\\91981\\appdata\\local\\programs\\python\\python311\\lib\\site-packages (4.32.0)\n",
      "Requirement already satisfied: pandas in c:\\users\\91981\\appdata\\local\\programs\\python\\python311\\lib\\site-packages (2.1.0)\n",
      "Requirement already satisfied: filelock in c:\\users\\91981\\appdata\\local\\programs\\python\\python311\\lib\\site-packages (from torch) (3.9.0)\n",
      "Requirement already satisfied: typing-extensions in c:\\users\\91981\\appdata\\local\\programs\\python\\python311\\lib\\site-packages (from torch) (4.5.0)\n",
      "Requirement already satisfied: sympy in c:\\users\\91981\\appdata\\local\\programs\\python\\python311\\lib\\site-packages (from torch) (1.12)\n",
      "Requirement already satisfied: networkx in c:\\users\\91981\\appdata\\local\\programs\\python\\python311\\lib\\site-packages (from torch) (3.1)\n",
      "Requirement already satisfied: jinja2 in c:\\users\\91981\\appdata\\local\\programs\\python\\python311\\lib\\site-packages (from torch) (3.1.2)\n",
      "Requirement already satisfied: numpy in c:\\users\\91981\\appdata\\local\\programs\\python\\python311\\lib\\site-packages (from torchvision) (1.25.2)\n",
      "Requirement already satisfied: requests in c:\\users\\91981\\appdata\\local\\programs\\python\\python311\\lib\\site-packages (from torchvision) (2.31.0)\n",
      "Requirement already satisfied: pillow!=8.3.*,>=5.3.0 in c:\\users\\91981\\appdata\\local\\programs\\python\\python311\\lib\\site-packages (from torchvision) (10.0.0)\n",
      "Requirement already satisfied: huggingface-hub<1.0,>=0.15.1 in c:\\users\\91981\\appdata\\local\\programs\\python\\python311\\lib\\site-packages (from transformers) (0.16.4)\n",
      "Requirement already satisfied: packaging>=20.0 in c:\\users\\91981\\appdata\\local\\programs\\python\\python311\\lib\\site-packages (from transformers) (23.1)\n",
      "Requirement already satisfied: pyyaml>=5.1 in c:\\users\\91981\\appdata\\local\\programs\\python\\python311\\lib\\site-packages (from transformers) (6.0.1)\n",
      "Requirement already satisfied: regex!=2019.12.17 in c:\\users\\91981\\appdata\\local\\programs\\python\\python311\\lib\\site-packages (from transformers) (2023.8.8)\n",
      "Requirement already satisfied: tokenizers!=0.11.3,<0.14,>=0.11.1 in c:\\users\\91981\\appdata\\local\\programs\\python\\python311\\lib\\site-packages (from transformers) (0.13.3)\n",
      "Requirement already satisfied: safetensors>=0.3.1 in c:\\users\\91981\\appdata\\local\\programs\\python\\python311\\lib\\site-packages (from transformers) (0.3.3)\n",
      "Requirement already satisfied: tqdm>=4.27 in c:\\users\\91981\\appdata\\local\\programs\\python\\python311\\lib\\site-packages (from transformers) (4.66.1)\n",
      "Requirement already satisfied: python-dateutil>=2.8.2 in c:\\users\\91981\\appdata\\local\\programs\\python\\python311\\lib\\site-packages (from pandas) (2.8.2)\n",
      "Requirement already satisfied: pytz>=2020.1 in c:\\users\\91981\\appdata\\local\\programs\\python\\python311\\lib\\site-packages (from pandas) (2023.3)\n",
      "Requirement already satisfied: tzdata>=2022.1 in c:\\users\\91981\\appdata\\local\\programs\\python\\python311\\lib\\site-packages (from pandas) (2023.3)\n",
      "Requirement already satisfied: fsspec in c:\\users\\91981\\appdata\\local\\programs\\python\\python311\\lib\\site-packages (from huggingface-hub<1.0,>=0.15.1->transformers) (2023.6.0)\n",
      "Requirement already satisfied: six>=1.5 in c:\\users\\91981\\appdata\\local\\programs\\python\\python311\\lib\\site-packages (from python-dateutil>=2.8.2->pandas) (1.16.0)\n",
      "Requirement already satisfied: colorama in c:\\users\\91981\\appdata\\local\\programs\\python\\python311\\lib\\site-packages (from tqdm>=4.27->transformers) (0.4.6)\n",
      "Requirement already satisfied: MarkupSafe>=2.0 in c:\\users\\91981\\appdata\\local\\programs\\python\\python311\\lib\\site-packages (from jinja2->torch) (2.1.3)\n",
      "Requirement already satisfied: charset-normalizer<4,>=2 in c:\\users\\91981\\appdata\\local\\programs\\python\\python311\\lib\\site-packages (from requests->torchvision) (3.2.0)\n",
      "Requirement already satisfied: idna<4,>=2.5 in c:\\users\\91981\\appdata\\local\\programs\\python\\python311\\lib\\site-packages (from requests->torchvision) (3.4)\n",
      "Requirement already satisfied: urllib3<3,>=1.21.1 in c:\\users\\91981\\appdata\\local\\programs\\python\\python311\\lib\\site-packages (from requests->torchvision) (2.0.4)\n",
      "Requirement already satisfied: certifi>=2017.4.17 in c:\\users\\91981\\appdata\\local\\programs\\python\\python311\\lib\\site-packages (from requests->torchvision) (2023.7.22)\n",
      "Requirement already satisfied: mpmath>=0.19 in c:\\users\\91981\\appdata\\local\\programs\\python\\python311\\lib\\site-packages (from sympy->torch) (1.3.0)\n"
     ]
    },
    {
     "name": "stderr",
     "output_type": "stream",
     "text": [
      "\n",
      "[notice] A new release of pip is available: 23.0.1 -> 23.2.1\n",
      "[notice] To update, run: python.exe -m pip install --upgrade pip\n"
     ]
    }
   ],
   "source": [
    "!pip install torch torchvision transformers pandas"
   ]
  },
  {
   "cell_type": "code",
   "execution_count": 4,
   "id": "60f32ed3-7901-4521-988a-c6c1d185665e",
   "metadata": {},
   "outputs": [
    {
     "name": "stdout",
     "output_type": "stream",
     "text": [
      "Collecting xlrd\n",
      "  Downloading xlrd-2.0.1-py2.py3-none-any.whl (96 kB)\n",
      "     ---------------------------------------- 0.0/96.5 kB ? eta -:--:--\n",
      "     ------------ --------------------------- 30.7/96.5 kB 1.3 MB/s eta 0:00:01\n",
      "     ---------------- --------------------- 41.0/96.5 kB 960.0 kB/s eta 0:00:01\n",
      "     -------------------------------- ----- 81.9/96.5 kB 762.6 kB/s eta 0:00:01\n",
      "     ------------------------------------ - 92.2/96.5 kB 744.7 kB/s eta 0:00:01\n",
      "     -------------------------------------- 96.5/96.5 kB 501.7 kB/s eta 0:00:00\n",
      "Installing collected packages: xlrd\n",
      "Successfully installed xlrd-2.0.1\n",
      "Note: you may need to restart the kernel to use updated packages.\n"
     ]
    },
    {
     "name": "stderr",
     "output_type": "stream",
     "text": [
      "\n",
      "[notice] A new release of pip is available: 23.0.1 -> 23.2.1\n",
      "[notice] To update, run: python.exe -m pip install --upgrade pip\n"
     ]
    }
   ],
   "source": [
    "pip install xlrd"
   ]
  },
  {
   "cell_type": "code",
   "execution_count": 2,
   "id": "14afd2a4-c066-4cf8-8855-f46f38f2a64a",
   "metadata": {},
   "outputs": [
    {
     "name": "stderr",
     "output_type": "stream",
     "text": [
      "No model was supplied, defaulted to distilbert-base-uncased-finetuned-sst-2-english and revision af0f99b (https://huggingface.co/distilbert-base-uncased-finetuned-sst-2-english).\n",
      "Using a pipeline without specifying a model name and revision in production is not recommended.\n"
     ]
    },
    {
     "data": {
      "application/vnd.jupyter.widget-view+json": {
       "model_id": "f619138d335a4bc6bcafd6a6dd4bd63a",
       "version_major": 2,
       "version_minor": 0
      },
      "text/plain": [
       "Downloading (…)lve/main/config.json:   0%|          | 0.00/629 [00:00<?, ?B/s]"
      ]
     },
     "metadata": {},
     "output_type": "display_data"
    },
    {
     "name": "stderr",
     "output_type": "stream",
     "text": [
      "C:\\Users\\91981\\AppData\\Local\\Programs\\Python\\Python311\\Lib\\site-packages\\huggingface_hub\\file_download.py:133: UserWarning: `huggingface_hub` cache-system uses symlinks by default to efficiently store duplicated files but your machine does not support them in C:\\Users\\91981\\.cache\\huggingface\\hub. Caching files will still work but in a degraded version that might require more space on your disk. This warning can be disabled by setting the `HF_HUB_DISABLE_SYMLINKS_WARNING` environment variable. For more details, see https://huggingface.co/docs/huggingface_hub/how-to-cache#limitations.\n",
      "To support symlinks on Windows, you either need to activate Developer Mode or to run Python as an administrator. In order to see activate developer mode, see this article: https://docs.microsoft.com/en-us/windows/apps/get-started/enable-your-device-for-development\n",
      "  warnings.warn(message)\n"
     ]
    },
    {
     "data": {
      "application/vnd.jupyter.widget-view+json": {
       "model_id": "56d013186d1542b8b7d87bd9f843f0d8",
       "version_major": 2,
       "version_minor": 0
      },
      "text/plain": [
       "Downloading model.safetensors:   0%|          | 0.00/268M [00:00<?, ?B/s]"
      ]
     },
     "metadata": {},
     "output_type": "display_data"
    },
    {
     "data": {
      "application/vnd.jupyter.widget-view+json": {
       "model_id": "e1a75ae8be7541b09757b7d779a5da6d",
       "version_major": 2,
       "version_minor": 0
      },
      "text/plain": [
       "Downloading (…)okenizer_config.json:   0%|          | 0.00/48.0 [00:00<?, ?B/s]"
      ]
     },
     "metadata": {},
     "output_type": "display_data"
    },
    {
     "data": {
      "application/vnd.jupyter.widget-view+json": {
       "model_id": "0ff4f72c87fa44258a27422e836ffbd2",
       "version_major": 2,
       "version_minor": 0
      },
      "text/plain": [
       "Downloading (…)solve/main/vocab.txt:   0%|          | 0.00/232k [00:00<?, ?B/s]"
      ]
     },
     "metadata": {},
     "output_type": "display_data"
    },
    {
     "data": {
      "application/vnd.jupyter.widget-view+json": {
       "model_id": "4f4ef0feb4664f2dbfc9af5ac28d5471",
       "version_major": 2,
       "version_minor": 0
      },
      "text/plain": [
       "Downloading (…)solve/main/vocab.txt:   0%|          | 0.00/232k [00:00<?, ?B/s]"
      ]
     },
     "metadata": {},
     "output_type": "display_data"
    },
    {
     "data": {
      "application/vnd.jupyter.widget-view+json": {
       "model_id": "2a6d79e3125b40b48104599c6c12b870",
       "version_major": 2,
       "version_minor": 0
      },
      "text/plain": [
       "Downloading (…)okenizer_config.json:   0%|          | 0.00/28.0 [00:00<?, ?B/s]"
      ]
     },
     "metadata": {},
     "output_type": "display_data"
    },
    {
     "data": {
      "application/vnd.jupyter.widget-view+json": {
       "model_id": "b181beb5c0414eb09658d3caced9e8f9",
       "version_major": 2,
       "version_minor": 0
      },
      "text/plain": [
       "Downloading (…)lve/main/config.json:   0%|          | 0.00/570 [00:00<?, ?B/s]"
      ]
     },
     "metadata": {},
     "output_type": "display_data"
    },
    {
     "data": {
      "application/vnd.jupyter.widget-view+json": {
       "model_id": "410b58e09e2e452ea23d08f3eeff8aa9",
       "version_major": 2,
       "version_minor": 0
      },
      "text/plain": [
       "Downloading model.safetensors:   0%|          | 0.00/440M [00:00<?, ?B/s]"
      ]
     },
     "metadata": {},
     "output_type": "display_data"
    },
    {
     "name": "stdout",
     "output_type": "stream",
     "text": [
      "        Custome Name                        Advanced Personalized Email\n",
      "0       Ava Thompson  Dear Ava Thompson,\\n\\nThank you for purchasing...\n",
      "1     Elliot Grayson  Dear Elliot Grayson,\\n\\nThank you for purchasi...\n",
      "2       Lily Roberts  Dear Lily Roberts,\\n\\nThank you for purchasing...\n",
      "3     Samuel Whitman  Dear Samuel Whitman,\\n\\nThank you for purchasi...\n",
      "4    Grace Zimmerman  Dear Grace Zimmerman,\\n\\nThank you for purchas...\n",
      "5       Henry Tallis  Dear Henry Tallis,\\n\\nThank you for purchasing...\n",
      "6       Emily Fields  Dear Emily Fields,\\n\\nThank you for purchasing...\n",
      "7   George Ellington  Dear George Ellington,\\n\\nThank you for purcha...\n",
      "8     Rebecca Hollis  Dear Rebecca Hollis,\\n\\nThank you for purchasi...\n",
      "9       Brian Oliver  Dear Brian Oliver,\\n\\nThank you for purchasing...\n",
      "10     Maria Stilton  Dear Maria Stilton,\\n\\nThank you for purchasin...\n",
      "11     Evan Richmond  Dear Evan Richmond,\\n\\nThank you for purchasin...\n",
      "12   Sarah Patterson  Dear Sarah Patterson,\\n\\nThank you for purchas...\n",
      "13  Christopher Deen  Dear Christopher Deen,\\n\\nThank you for purcha...\n",
      "14   Angela Morrison  Dear Angela Morrison,\\n\\nThank you for purchas...\n",
      "15        Kyle Banks  Dear Kyle Banks,\\n\\nThank you for purchasing t...\n",
      "16   Samantha Riddle  Dear Samantha Riddle,\\n\\nThank you for purchas...\n",
      "17   Mitchell Danson  Dear Mitchell Danson,\\n\\nThank you for purchas...\n",
      "18    Bethany Harrow  Dear Bethany Harrow,\\n\\nThank you for purchasi...\n",
      "19     Jared Higgins  Dear Jared Higgins,\\n\\nThank you for purchasin...\n"
     ]
    }
   ],
   "source": [
    "# Step 1: Install Required Libraries\n",
    "# !pip install torch torchvision transformers pandas\n",
    "\n",
    "import pandas as pd\n",
    "from transformers import pipeline, BertTokenizer, BertModel\n",
    "import torch\n",
    "#import openpyxl\n",
    "\n",
    "# Sample Data\n",
    "df = pd.read_csv('n8n.csv')\n",
    "\n",
    "# Step 2: Setup Sentiment Analysis and BERT Model for Embeddings\n",
    "sentiment_analyzer = pipeline(\"sentiment-analysis\")\n",
    "\n",
    "tokenizer = BertTokenizer.from_pretrained(\"bert-base-uncased\")\n",
    "model = BertModel.from_pretrained(\"bert-base-uncased\")\n",
    "device = torch.device(\"cuda\" if torch.cuda.is_available() else \"cpu\")\n",
    "model.to(device)\n",
    "\n",
    "def get_embedding(text):\n",
    "    tokens = tokenizer(text, return_tensors='pt', truncation=True, padding=True, max_length=512).to(device)\n",
    "    with torch.no_grad():\n",
    "        embeddings = model(**tokens).last_hidden_state.mean(dim=1)[0]\n",
    "    return embeddings.cpu().numpy()\n",
    "\n",
    "# Step 3: Generate Personalized Emails\n",
    "def generate_advanced_email(row):\n",
    "    item = row['Item Purchased']\n",
    "    feedback = row['Feedback']\n",
    "    sentiment = sentiment_analyzer(feedback)[0]['label']\n",
    "    \n",
    "    # Start with a generic greeting\n",
    "    message = f\"Dear {row['Custome Name']},\\n\\nThank you for purchasing the {item}.\\n\"\n",
    "    \n",
    "    # Personalize based on sentiment analysis\n",
    "    if sentiment == 'POSITIVE':\n",
    "        message += f\"We're thrilled you're enjoying the {item}! \"\n",
    "    elif sentiment == 'NEGATIVE':\n",
    "        message += f\"We're sorry to hear about your experience with {item}. We're here to help. \"\n",
    "    else:  # NEUTRAL sentiment\n",
    "        message += f\"We hope you find the {item} to your liking. \"\n",
    "    \n",
    "    # Additional recommendations or actions based on embeddings can be added here.\n",
    "    # For this example, we'll keep it simple and skip this part.\n",
    "    \n",
    "    message += \"Here are some products you might also like based on your purchase:\\n\\n[Recommended products]\\n\\nBest regards,\\n[Your Company]\"\n",
    "    \n",
    "    return message\n",
    "\n",
    "df['Advanced Personalized Email'] = df.apply(generate_advanced_email, axis=1)\n",
    "\n",
    "print(df[['Custome Name', 'Advanced Personalized Email']])\n"
   ]
  },
  {
   "cell_type": "code",
   "execution_count": 5,
   "id": "d1d50892-827c-4985-8505-ac980cd5f6f6",
   "metadata": {},
   "outputs": [],
   "source": [
    "df.to_csv('n8nwithmails.csv')"
   ]
  },
  {
   "cell_type": "code",
   "execution_count": null,
   "id": "c06c8f13-9c85-403d-9909-e3914424c541",
   "metadata": {},
   "outputs": [],
   "source": []
  }
 ],
 "metadata": {
  "kernelspec": {
   "display_name": "Python 3",
   "language": "python",
   "name": "python3"
  },
  "language_info": {
   "codemirror_mode": {
    "name": "ipython",
    "version": 3
   },
   "file_extension": ".py",
   "mimetype": "text/x-python",
   "name": "python",
   "nbconvert_exporter": "python",
   "pygments_lexer": "ipython3",
   "version": "3.11.2"
  }
 },
 "nbformat": 4,
 "nbformat_minor": 5
}
